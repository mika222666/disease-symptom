{
 "cells": [
  {
   "cell_type": "code",
   "execution_count": 51,
   "metadata": {},
   "outputs": [],
   "source": [
    "import pandas as pd\n",
    "import numpy as np\n",
    "import re\n",
    "import os\n",
    "import glob\n",
    "\n",
    "import pandas as pd\n",
    "import matplotlib.pyplot as plt\n",
    "from sklearn.tree import DecisionTreeClassifier\n",
    "from sklearn.model_selection import train_test_split\n",
    "from sklearn.externals import joblib\n",
    "from sklearn.naive_bayes import GaussianNB"
   ]
  },
  {
   "cell_type": "code",
   "execution_count": 41,
   "metadata": {},
   "outputs": [],
   "source": [
    "db_table = pd.read_csv('selfmade-db.csv', encoding='utf-8', index_col=None, header=0)"
   ]
  },
  {
   "cell_type": "code",
   "execution_count": 42,
   "metadata": {},
   "outputs": [],
   "source": [
    "def isValid(cui):\n",
    "    cui = str(cui)\n",
    "    pattern = re.compile(\"C\\\\d{7}\")\n",
    "    if not pattern.match(cui):\n",
    "        return False\n",
    "    return True\n",
    "\n",
    "def cuiToNumber(cui):\n",
    "      return cui.strip(\"C\").strip(\"0\")\n",
    "\n",
    "def convertCUI(cui):\n",
    "    cui = str(cui)\n",
    "    if not isValid(cui):\n",
    "        return \"C\" + cui.zfill(7)\n",
    "    else:\n",
    "        return cui\n",
    "\n",
    "def clean(the_string):\n",
    "    return str(the_string.encode('utf-8'))"
   ]
  },
  {
   "cell_type": "code",
   "execution_count": 43,
   "metadata": {},
   "outputs": [],
   "source": [
    "db_table['Disease'] = db_table['Disease'].apply(convertCUI)\n",
    "db_table['Symptom'] = db_table['Symptom'].apply(convertCUI)"
   ]
  },
  {
   "cell_type": "code",
   "execution_count": 44,
   "metadata": {},
   "outputs": [],
   "source": [
    "db_table.to_csv(\"selfmade-db.csv\",index=False)\n",
    "\n",
    "df_foreign = pd.read_csv('disease-symptom-other.csv', encoding='utf-8', index_col=None, header=0)\n",
    "\n",
    "db_table = db_table.append(df_foreign)\n",
    "\n",
    "db_table.to_csv(\"disease-symptom-merged-edit.csv\",index=False)"
   ]
  },
  {
   "cell_type": "code",
   "execution_count": 45,
   "metadata": {},
   "outputs": [],
   "source": [
    "db_table['Disease'] = db_table['Disease'].astype(str)\n",
    "db_table['Symptom'] = db_table['Symptom'].astype(str)\n",
    "\n",
    "db_table['Symptom'].replace('', np.nan, inplace=True)\n",
    "db_table.dropna(subset=['Symptom'], inplace=True)\n",
    "\n",
    "db_table['Disease'].replace('', np.nan, inplace=True)\n",
    "db_table.dropna(subset=['Disease'], inplace=True)\n",
    "\n",
    "df = pd.DataFrame(db_table)\n",
    "df.columns\n",
    "\n",
    "df_1 = pd.get_dummies(df.Symptom)\n",
    "df_s = df['Disease']\n",
    "df_pivoted = pd.concat([df_s,df_1], axis=1)\n",
    "df_pivoted.drop_duplicates(keep='first',inplace=True)"
   ]
  },
  {
   "cell_type": "code",
   "execution_count": 46,
   "metadata": {},
   "outputs": [],
   "source": [
    "cols = df_pivoted.columns\n",
    "cols = cols[1:] # skip 'Disease'"
   ]
  },
  {
   "cell_type": "code",
   "execution_count": 47,
   "metadata": {},
   "outputs": [],
   "source": [
    "df_pivoted = df_pivoted.groupby('Disease').sum()\n",
    "df_pivoted = df_pivoted.reset_index()"
   ]
  },
  {
   "cell_type": "code",
   "execution_count": 48,
   "metadata": {},
   "outputs": [],
   "source": [
    "df_pivoted.to_csv('all_pivoted_edit.csv', index=False)"
   ]
  },
  {
   "cell_type": "code",
   "execution_count": 49,
   "metadata": {},
   "outputs": [],
   "source": [
    "cols = df_pivoted.columns\n",
    "cols = cols[1:] # skip 'title'\n",
    "x = df_pivoted[cols] # symptom rows\n",
    "y = df_pivoted['Disease'] # diseases\n",
    "x.to_csv(\"all_x_edit.csv\", index=False)"
   ]
  },
  {
   "cell_type": "code",
   "execution_count": 13,
   "metadata": {},
   "outputs": [],
   "source": [
    "#x_train, x_test, y_train, y_test = train_test_split(x, y, test_size=0.33, random_state=42)"
   ]
  },
  {
   "cell_type": "code",
   "execution_count": 12,
   "metadata": {},
   "outputs": [],
   "source": [
    "#clf = DecisionTreeClassifier(random_state = 0)\n",
    "#clf = clf.fit(x_train, y_train)\n",
    "\n",
    "#clf.score(x_test, y_test)"
   ]
  },
  {
   "cell_type": "code",
   "execution_count": 52,
   "metadata": {},
   "outputs": [
    {
     "data": {
      "text/plain": [
       "0.9683698296836983"
      ]
     },
     "execution_count": 52,
     "metadata": {},
     "output_type": "execute_result"
    }
   ],
   "source": [
    "clf = GaussianNB()\n",
    "clf = clf.fit(x, y)\n",
    "\n",
    "clf.score(x, y)"
   ]
  },
  {
   "cell_type": "code",
   "execution_count": 53,
   "metadata": {},
   "outputs": [],
   "source": [
    "disease_pred = clf.predict(x)\n",
    "\n",
    "disease_real = y.values"
   ]
  },
  {
   "cell_type": "code",
   "execution_count": 54,
   "metadata": {},
   "outputs": [
    {
     "name": "stdout",
     "output_type": "stream",
     "text": [
      "Pred: C0006840 Actual:C0006849\n",
      "Pred: C0001175 Actual:C0019682\n",
      "Pred: C0001175 Actual:C0019693\n",
      "Pred: C0036262 Actual:C0041976\n",
      "Pred: C0036690 Actual:C0243026\n",
      "Pred: C0014549 Actual:C0494475\n",
      "Pred: C0039621 Actual:C0549346\n",
      "Pred: C0006142 Actual:C0678222\n",
      "Pred: C0242379 Actual:C0684249\n",
      "Pred: C0007102 Actual:C0699790\n",
      "Pred: C0036690 Actual:C1090821\n",
      "Pred: C0031039 Actual:C1253937\n",
      "Pred: C0020428 Actual:C1384514\n"
     ]
    }
   ],
   "source": [
    "for i in range(0, len(disease_real)):\n",
    "    if disease_pred[i]!=disease_real[i]:\n",
    "        print ('Pred: {0} Actual:{1}'.format(disease_pred[i], disease_real[i]))"
   ]
  },
  {
   "cell_type": "code",
   "execution_count": 55,
   "metadata": {},
   "outputs": [],
   "source": [
    "joblib.dump(clf,'all_mnb.pkl', protocol=2)\n",
    "\n",
    "data = pd.read_csv(\"all_x_edit.csv\")"
   ]
  },
  {
   "cell_type": "code",
   "execution_count": 56,
   "metadata": {},
   "outputs": [],
   "source": [
    "df = pd.DataFrame(data)\n",
    "features = df.columns # = symptoms\n",
    "features_raw = [str(features[x]) for x in range(len(features))]\n",
    "features_raw = ','.join(map(str, features_raw))"
   ]
  },
  {
   "cell_type": "code",
   "execution_count": 57,
   "metadata": {},
   "outputs": [],
   "source": [
    "# convert feature array into dict of symptom: index\n",
    "feature_dict = {}\n",
    "for i,f in enumerate(features):\n",
    "    feature_dict[f] = i"
   ]
  },
  {
   "cell_type": "code",
   "execution_count": 58,
   "metadata": {},
   "outputs": [],
   "source": [
    "def findFeatures(disease):\n",
    "    return db_table.loc[db_table['Disease'] == disease][\"Symptom\"].values.astype(str)"
   ]
  },
  {
   "cell_type": "code",
   "execution_count": 59,
   "metadata": {},
   "outputs": [],
   "source": [
    "sample = np.zeros((len(features),), dtype=np.int)\n",
    "sample_list = sample.tolist()"
   ]
  },
  {
   "cell_type": "code",
   "execution_count": 60,
   "metadata": {},
   "outputs": [],
   "source": [
    "sym_dictionary = pd.read_csv('full_dictionary.csv', encoding='utf-8', index_col=None, header=0)"
   ]
  },
  {
   "cell_type": "code",
   "execution_count": 61,
   "metadata": {},
   "outputs": [
    {
     "data": {
      "text/html": [
       "<div>\n",
       "<style scoped>\n",
       "    .dataframe tbody tr th:only-of-type {\n",
       "        vertical-align: middle;\n",
       "    }\n",
       "\n",
       "    .dataframe tbody tr th {\n",
       "        vertical-align: top;\n",
       "    }\n",
       "\n",
       "    .dataframe thead th {\n",
       "        text-align: right;\n",
       "    }\n",
       "</style>\n",
       "<table border=\"1\" class=\"dataframe\">\n",
       "  <thead>\n",
       "    <tr style=\"text-align: right;\">\n",
       "      <th></th>\n",
       "      <th>Unnamed: 0</th>\n",
       "      <th>Disease_UMLS</th>\n",
       "      <th>Disease_CUI</th>\n",
       "      <th>备注（英语）</th>\n",
       "      <th>Symptom</th>\n",
       "      <th>Symptom_CUI</th>\n",
       "      <th>备注</th>\n",
       "    </tr>\n",
       "  </thead>\n",
       "  <tbody>\n",
       "    <tr>\n",
       "      <th>0</th>\n",
       "      <td>NaN</td>\n",
       "      <td>acquired immuno-deficiency syndrome</td>\n",
       "      <td>C0001175</td>\n",
       "      <td>NaN</td>\n",
       "      <td>abdomen acute</td>\n",
       "      <td>C0000727</td>\n",
       "      <td>NaN</td>\n",
       "    </tr>\n",
       "    <tr>\n",
       "      <th>1</th>\n",
       "      <td>171.0</td>\n",
       "      <td>akromegalie</td>\n",
       "      <td>C0001206</td>\n",
       "      <td>acromegalic</td>\n",
       "      <td>akutes abdomen</td>\n",
       "      <td>C0000727</td>\n",
       "      <td>印尼语</td>\n",
       "    </tr>\n",
       "    <tr>\n",
       "      <th>2</th>\n",
       "      <td>301.0</td>\n",
       "      <td>akute pankreatitis</td>\n",
       "      <td>C0001339</td>\n",
       "      <td>acute pancreatitis</td>\n",
       "      <td>distended abdomen</td>\n",
       "      <td>C0000731</td>\n",
       "      <td>NaN</td>\n",
       "    </tr>\n",
       "    <tr>\n",
       "      <th>3</th>\n",
       "      <td>NaN</td>\n",
       "      <td>adenocarcinoma</td>\n",
       "      <td>C0001418</td>\n",
       "      <td>NaN</td>\n",
       "      <td>pain abdominal</td>\n",
       "      <td>C0000737</td>\n",
       "      <td>NaN</td>\n",
       "    </tr>\n",
       "    <tr>\n",
       "      <th>4</th>\n",
       "      <td>NaN</td>\n",
       "      <td>adhesion</td>\n",
       "      <td>C0001511</td>\n",
       "      <td>NaN</td>\n",
       "      <td>abdominal schmerzen</td>\n",
       "      <td>C0000737</td>\n",
       "      <td>德语</td>\n",
       "    </tr>\n",
       "    <tr>\n",
       "      <th>...</th>\n",
       "      <td>...</td>\n",
       "      <td>...</td>\n",
       "      <td>...</td>\n",
       "      <td>...</td>\n",
       "      <td>...</td>\n",
       "      <td>...</td>\n",
       "      <td>...</td>\n",
       "    </tr>\n",
       "    <tr>\n",
       "      <th>1136</th>\n",
       "      <td>NaN</td>\n",
       "      <td>NaN</td>\n",
       "      <td>NaN</td>\n",
       "      <td>NaN</td>\n",
       "      <td>voellegefuehl</td>\n",
       "      <td>C3714614</td>\n",
       "      <td>NaN</td>\n",
       "    </tr>\n",
       "    <tr>\n",
       "      <th>1137</th>\n",
       "      <td>NaN</td>\n",
       "      <td>NaN</td>\n",
       "      <td>NaN</td>\n",
       "      <td>NaN</td>\n",
       "      <td>malabsorption</td>\n",
       "      <td>C3714745</td>\n",
       "      <td>NaN</td>\n",
       "    </tr>\n",
       "    <tr>\n",
       "      <th>1138</th>\n",
       "      <td>NaN</td>\n",
       "      <td>NaN</td>\n",
       "      <td>NaN</td>\n",
       "      <td>NaN</td>\n",
       "      <td>unruhe</td>\n",
       "      <td>C3887611</td>\n",
       "      <td>NaN</td>\n",
       "    </tr>\n",
       "    <tr>\n",
       "      <th>1139</th>\n",
       "      <td>NaN</td>\n",
       "      <td>NaN</td>\n",
       "      <td>NaN</td>\n",
       "      <td>NaN</td>\n",
       "      <td>affektive ambivalenz</td>\n",
       "      <td>C4049320</td>\n",
       "      <td>NaN</td>\n",
       "    </tr>\n",
       "    <tr>\n",
       "      <th>1140</th>\n",
       "      <td>NaN</td>\n",
       "      <td>NaN</td>\n",
       "      <td>NaN</td>\n",
       "      <td>NaN</td>\n",
       "      <td>bulbaerparalyse</td>\n",
       "      <td>C4082299</td>\n",
       "      <td>NaN</td>\n",
       "    </tr>\n",
       "  </tbody>\n",
       "</table>\n",
       "<p>1141 rows × 7 columns</p>\n",
       "</div>"
      ],
      "text/plain": [
       "      Unnamed: 0                         Disease_UMLS Disease_CUI  \\\n",
       "0            NaN  acquired immuno-deficiency syndrome    C0001175   \n",
       "1          171.0                          akromegalie    C0001206   \n",
       "2          301.0                   akute pankreatitis    C0001339   \n",
       "3            NaN                       adenocarcinoma    C0001418   \n",
       "4            NaN                             adhesion    C0001511   \n",
       "...          ...                                  ...         ...   \n",
       "1136         NaN                                  NaN         NaN   \n",
       "1137         NaN                                  NaN         NaN   \n",
       "1138         NaN                                  NaN         NaN   \n",
       "1139         NaN                                  NaN         NaN   \n",
       "1140         NaN                                  NaN         NaN   \n",
       "\n",
       "                  备注（英语）               Symptom Symptom_CUI   备注  \n",
       "0                    NaN         abdomen acute    C0000727  NaN  \n",
       "1            acromegalic        akutes abdomen    C0000727  印尼语  \n",
       "2     acute pancreatitis     distended abdomen    C0000731  NaN  \n",
       "3                    NaN        pain abdominal    C0000737  NaN  \n",
       "4                    NaN   abdominal schmerzen    C0000737   德语  \n",
       "...                  ...                   ...         ...  ...  \n",
       "1136                 NaN         voellegefuehl    C3714614  NaN  \n",
       "1137                 NaN         malabsorption    C3714745  NaN  \n",
       "1138                 NaN                unruhe    C3887611  NaN  \n",
       "1139                 NaN  affektive ambivalenz    C4049320  NaN  \n",
       "1140                 NaN       bulbaerparalyse    C4082299  NaN  \n",
       "\n",
       "[1141 rows x 7 columns]"
      ]
     },
     "execution_count": 61,
     "metadata": {},
     "output_type": "execute_result"
    }
   ],
   "source": [
    "sym_dictionary"
   ]
  },
  {
   "cell_type": "code",
   "execution_count": 62,
   "metadata": {},
   "outputs": [],
   "source": [
    "def find_symtom_cui(value_list, sym_dictionary):\n",
    "    search_cui = []\n",
    "    symptom_list = sym_dictionary[\"Symptom\"].tolist() \n",
    "    symptom_cui_list = sym_dictionary[\"Symptom_CUI\"].tolist()\n",
    "    \n",
    "    for s in value_list: \n",
    "        search_cui.append(symptom_cui_list[symptom_list.index(s)])\n",
    "    return search_cui"
   ]
  },
  {
   "cell_type": "code",
   "execution_count": 277,
   "metadata": {},
   "outputs": [
    {
     "data": {
      "text/plain": [
       "['C0000727', 'C3714745', 'C3887611']"
      ]
     },
     "execution_count": 277,
     "metadata": {},
     "output_type": "execute_result"
    }
   ],
   "source": [
    "# input_symptoms = ['abdomen acute','malabsorption', 'unruhe']\n",
    "# search_cui = find_symtom_cui(input_symptoms, sym_dictionary)\n",
    "# search_cui"
   ]
  },
  {
   "cell_type": "code",
   "execution_count": 63,
   "metadata": {},
   "outputs": [],
   "source": [
    "def find_symptom(input_sym_cui, sym_dictionary):\n",
    "    search_sym = []\n",
    "    symptom_list = sym_dictionary[\"Symptom\"].tolist() \n",
    "    symptom_cui_list = sym_dictionary[\"Symptom_CUI\"].tolist()\n",
    "    \n",
    "    for s in input_sym_cui: \n",
    "        search_sym.append(symptom_list[symptom_cui_list.index(s)])\n",
    "    return search_sym"
   ]
  },
  {
   "cell_type": "code",
   "execution_count": 250,
   "metadata": {},
   "outputs": [
    {
     "data": {
      "text/plain": [
       "['systolic murmur', 'frail']"
      ]
     },
     "execution_count": 250,
     "metadata": {},
     "output_type": "execute_result"
    }
   ],
   "source": [
    "'''input_sym_cui = ['C0232257', 'C0871754']\n",
    "search_sym = find_symptom(input_sym_cui, sym_dictionary)\n",
    "search_sym'''"
   ]
  },
  {
   "cell_type": "code",
   "execution_count": 64,
   "metadata": {},
   "outputs": [],
   "source": [
    "def find_disease(input_disease_cui, sym_dictionary):\n",
    "    search_di = []\n",
    "    disease_list = sym_dictionary[\"Disease_UMLS\"].tolist() \n",
    "    disease_cui_list = sym_dictionary[\"Disease_CUI\"].tolist()\n",
    "    \n",
    "    for s in input_disease_cui: \n",
    "        search_di.append(disease_list[disease_cui_list.index(s)])\n",
    "    return search_di"
   ]
  },
  {
   "cell_type": "code",
   "execution_count": 50,
   "metadata": {},
   "outputs": [],
   "source": [
    "# for s in search_cui:\n",
    "    # sample_list[feature_dict[s]] = 1"
   ]
  },
  {
   "cell_type": "code",
   "execution_count": 280,
   "metadata": {},
   "outputs": [],
   "source": [
    "# sample_list = np.array(sample_list).reshape(1,len(sample_list))\n",
    "\n",
    "# predict_results = clf.predict_proba(sample_list)[0]"
   ]
  },
  {
   "cell_type": "code",
   "execution_count": 281,
   "metadata": {},
   "outputs": [],
   "source": [
    "# gets a dictionary of {'class_name': probability}\n",
    "# prob_per_class_dictionary = dict(zip(clf.classes_, predict_results))\n",
    "# disease_list = sym_dictionary[\"Disease_UMLS\"].tolist()\n",
    "# prob_per_class_dictionary = dict(zip(disease_list, predict_results))"
   ]
  },
  {
   "cell_type": "code",
   "execution_count": 282,
   "metadata": {},
   "outputs": [],
   "source": [
    "# gets a list of ['most_probable_class', 'second_most_probable_class', ..., 'least_class']\n",
    "#results_ordered_by_probability = map(lambda x: {\"disease\": x[0],\"prop\": x[1] * 100, \"sy\": findFeatures(x[0])}, sorted(zip(clf.classes_, predict_results), key=lambda x: x[1], reverse=True))"
   ]
  },
  {
   "cell_type": "code",
   "execution_count": 283,
   "metadata": {},
   "outputs": [],
   "source": [
    "'''disease_list_1 = find_disease(clf.classes_, sym_dictionary)\n",
    "feature_list = []\n",
    "for s in clf.classes_:\n",
    "    feature_list.append(find_symptom(findFeatures(s), sym_dictionary))'''\n"
   ]
  },
  {
   "cell_type": "code",
   "execution_count": 284,
   "metadata": {},
   "outputs": [
    {
     "data": {
      "text/html": [
       "<div>\n",
       "<style scoped>\n",
       "    .dataframe tbody tr th:only-of-type {\n",
       "        vertical-align: middle;\n",
       "    }\n",
       "\n",
       "    .dataframe tbody tr th {\n",
       "        vertical-align: top;\n",
       "    }\n",
       "\n",
       "    .dataframe thead th {\n",
       "        text-align: right;\n",
       "    }\n",
       "</style>\n",
       "<table border=\"1\" class=\"dataframe\">\n",
       "  <thead>\n",
       "    <tr style=\"text-align: right;\">\n",
       "      <th></th>\n",
       "      <th>disease</th>\n",
       "      <th>probability</th>\n",
       "      <th>symptoms</th>\n",
       "    </tr>\n",
       "  </thead>\n",
       "  <tbody>\n",
       "    <tr>\n",
       "      <th>360</th>\n",
       "      <td>ischialgie</td>\n",
       "      <td>50.0</td>\n",
       "      <td>[paraesthesien und dysaesthesien]</td>\n",
       "    </tr>\n",
       "    <tr>\n",
       "      <th>276</th>\n",
       "      <td>tetanie</td>\n",
       "      <td>50.0</td>\n",
       "      <td>[paraesthesien und dysaesthesien]</td>\n",
       "    </tr>\n",
       "    <tr>\n",
       "      <th>270</th>\n",
       "      <td>subarachnoidalblutung</td>\n",
       "      <td>0.0</td>\n",
       "      <td>[headache, meningismus, bewusstseinsstoerungen...</td>\n",
       "    </tr>\n",
       "    <tr>\n",
       "      <th>280</th>\n",
       "      <td>thyreotoxische krise</td>\n",
       "      <td>0.0</td>\n",
       "      <td>[sinustachykardie, fever / hyperthermie, flush...</td>\n",
       "    </tr>\n",
       "    <tr>\n",
       "      <th>279</th>\n",
       "      <td>thrombocytopaenia</td>\n",
       "      <td>0.0</td>\n",
       "      <td>[ecchymoses, monocytosis, posterior rhinorrhea...</td>\n",
       "    </tr>\n",
       "    <tr>\n",
       "      <th>...</th>\n",
       "      <td>...</td>\n",
       "      <td>...</td>\n",
       "      <td>...</td>\n",
       "    </tr>\n",
       "    <tr>\n",
       "      <th>134</th>\n",
       "      <td>hyperkalzaemie</td>\n",
       "      <td>0.0</td>\n",
       "      <td>[nausea, vomiting, constipation, nephrolithias...</td>\n",
       "    </tr>\n",
       "    <tr>\n",
       "      <th>133</th>\n",
       "      <td>hyperbilirubinemia</td>\n",
       "      <td>0.0</td>\n",
       "      <td>[cyanosis, tachypnea, para 1, bradycardia, bre...</td>\n",
       "    </tr>\n",
       "    <tr>\n",
       "      <th>132</th>\n",
       "      <td>hyperaldosteronismus</td>\n",
       "      <td>0.0</td>\n",
       "      <td>[hypertonie, hypokalemia, metabolische alkalose]</td>\n",
       "    </tr>\n",
       "    <tr>\n",
       "      <th>131</th>\n",
       "      <td>hydrops fetalis</td>\n",
       "      <td>0.0</td>\n",
       "      <td>[ascites, pleuraerguss, polyhydramnion]</td>\n",
       "    </tr>\n",
       "    <tr>\n",
       "      <th>410</th>\n",
       "      <td>uterine myomatose</td>\n",
       "      <td>0.0</td>\n",
       "      <td>[hypermenorrhoe/menorrhagie, metrorrhagie, har...</td>\n",
       "    </tr>\n",
       "  </tbody>\n",
       "</table>\n",
       "<p>411 rows × 3 columns</p>\n",
       "</div>"
      ],
      "text/plain": [
       "                   disease  probability  \\\n",
       "360             ischialgie         50.0   \n",
       "276                tetanie         50.0   \n",
       "270  subarachnoidalblutung          0.0   \n",
       "280   thyreotoxische krise          0.0   \n",
       "279      thrombocytopaenia          0.0   \n",
       "..                     ...          ...   \n",
       "134         hyperkalzaemie          0.0   \n",
       "133     hyperbilirubinemia          0.0   \n",
       "132   hyperaldosteronismus          0.0   \n",
       "131        hydrops fetalis          0.0   \n",
       "410      uterine myomatose          0.0   \n",
       "\n",
       "                                              symptoms  \n",
       "360                  [paraesthesien und dysaesthesien]  \n",
       "276                  [paraesthesien und dysaesthesien]  \n",
       "270  [headache, meningismus, bewusstseinsstoerungen...  \n",
       "280  [sinustachykardie, fever / hyperthermie, flush...  \n",
       "279  [ecchymoses, monocytosis, posterior rhinorrhea...  \n",
       "..                                                 ...  \n",
       "134  [nausea, vomiting, constipation, nephrolithias...  \n",
       "133  [cyanosis, tachypnea, para 1, bradycardia, bre...  \n",
       "132   [hypertonie, hypokalemia, metabolische alkalose]  \n",
       "131            [ascites, pleuraerguss, polyhydramnion]  \n",
       "410  [hypermenorrhoe/menorrhagie, metrorrhagie, har...  \n",
       "\n",
       "[411 rows x 3 columns]"
      ]
     },
     "execution_count": 284,
     "metadata": {},
     "output_type": "execute_result"
    }
   ],
   "source": [
    "# table_1 = pd.DataFrame({'disease': disease_list_1,'probability': predict_results *100, 'symptoms': feature_list})\n",
    "# table_2 = table_1.sort_values(by=\"probability\" , ascending=False)"
   ]
  },
  {
   "cell_type": "code",
   "execution_count": 65,
   "metadata": {},
   "outputs": [],
   "source": [
    "def symptom_disease(value_list, sym_dictionary, sample_list):\n",
    "    search_cui = find_symtom_cui(value_list, sym_dictionary)\n",
    "    for s in search_cui:\n",
    "        sample_list[feature_dict[s]] = 1\n",
    "        \n",
    "    sample_list = np.array(sample_list).reshape(1,len(sample_list))\n",
    "\n",
    "    predict_results = clf.predict_proba(sample_list)[0]\n",
    "    \n",
    "    return predict_results"
   ]
  },
  {
   "cell_type": "code",
   "execution_count": 66,
   "metadata": {},
   "outputs": [],
   "source": [
    "def fill_disease_list(sym_dictionary, clf):\n",
    "    # gets a dictionary of {'class_name': probability}\n",
    "    #prob_per_class_dictionary = dict(zip(clf.classes_, predict_results))\n",
    "    disease_list = sym_dictionary[\"Disease_UMLS\"].tolist()\n",
    "    #prob_per_class_dictionary = dict(zip(disease_list, predict_results))\n",
    "    \n",
    "    disease_list_1 = find_disease(clf.classes_, sym_dictionary)\n",
    "    \n",
    "    return disease_list_1"
   ]
  },
  {
   "cell_type": "code",
   "execution_count": 67,
   "metadata": {},
   "outputs": [],
   "source": [
    "def fill_feature_list(clf):\n",
    "    feature_list = []\n",
    "    for s in clf.classes_:\n",
    "        feature_list.append(find_symptom(findFeatures(s), sym_dictionary))\n",
    "        \n",
    "    return feature_list\n"
   ]
  },
  {
   "cell_type": "code",
   "execution_count": 68,
   "metadata": {},
   "outputs": [],
   "source": [
    "def symptom_check(value_list, sym_dictionary):\n",
    "    symptom_list = sym_dictionary[\"Symptom\"].tolist() \n",
    "    for s in value_list:\n",
    "        if s in symptom_list:\n",
    "            return True\n",
    "    return False"
   ]
  },
  {
   "cell_type": "code",
   "execution_count": 69,
   "metadata": {},
   "outputs": [],
   "source": [
    "value_list = ['fever', 'cough']"
   ]
  },
  {
   "cell_type": "code",
   "execution_count": 38,
   "metadata": {},
   "outputs": [],
   "source": [
    "def correct_symptom(value_list):\n",
    "    my_dict = {'a':'0','b':'0','c':'0','d':'0','e':'0','f':'0','g':'0','h':'0','i':'0', 'j':'0', 'k':'0', 'l':'0', 'm':'0', 'n':'0', 'o':'0', 'p':'0', 'q':'0', 'r':'0', 's':'0', 't':'0', 'u':'0', 'v':'0','w':'0', 'x':'0','y':'0', 'z':'0',' ':'0'}\n",
    "    for s in value_list:\n",
    "        s_2=list(s)\n",
    "        for p in s_2:\n",
    "            my_dict = \n",
    "    print(\"\".join(s_2))\n",
    "        \n",
    "    return s_2\n",
    "    "
   ]
  },
  {
   "cell_type": "code",
   "execution_count": 39,
   "metadata": {},
   "outputs": [
    {
     "name": "stdout",
     "output_type": "stream",
     "text": [
      "cough\n"
     ]
    },
    {
     "data": {
      "text/plain": [
       "['c', 'o', 'u', 'g', 'h']"
      ]
     },
     "execution_count": 39,
     "metadata": {},
     "output_type": "execute_result"
    }
   ],
   "source": [
    "correct_symptom(value_list)"
   ]
  },
  {
   "cell_type": "code",
   "execution_count": 70,
   "metadata": {},
   "outputs": [],
   "source": [
    "def make_table(value_list, sym_dictionary, sample_list, clf):\n",
    "    \n",
    "    disease_list_1 = fill_disease_list(sym_dictionary, clf)\n",
    "    predict_results = symptom_disease(value_list, sym_dictionary, sample_list)\n",
    "    feature_list = fill_feature_list(clf)\n",
    "    \n",
    "    #output the re//sults as a table\n",
    "    table_1 = pd.DataFrame({'disease': disease_list_1,'probability': predict_results *100, 'symptoms': feature_list})\n",
    "    table_2 = table_1.sort_values(by=\"probability\" , ascending=False)\n",
    "    \n",
    "    return table_2"
   ]
  },
  {
   "cell_type": "code",
   "execution_count": 72,
   "metadata": {},
   "outputs": [],
   "source": [
    "import PySimpleGUI as sg\n",
    "\n",
    "sg.theme('Dark Blue 3')   # Add a touch of color\n",
    "\n",
    "    \n",
    "layout = [[sg.Text('Symptoms:'), sg.InputText(size=(40,))],\n",
    "     [sg.Button('Find Disease', key='submit')],\n",
    "     [sg.Text('', key='disease 1', size=(100,5))],\n",
    "     [sg.Text('', key='disease 2', size=(100,5))],\n",
    "     [sg.Text('', key='disease 3', size=(100,5))],     \n",
    "     [sg.Quit('quit', key='exit')]]\n",
    "    \n",
    "# Create the Window\n",
    "window = sg.Window('Disease System', layout, grab_anywhere=True)\n",
    "\n",
    "while True:\n",
    "    event, value = window.Read()\n",
    "    value_0 = value[0]\n",
    "    value_str = str(value_0)\n",
    "    value_list = value_str.split(\",\")\n",
    "    if event == 'submit':\n",
    "        if symptom_check(value_list, sym_dictionary):\n",
    "            the_table = make_table(value_list, sym_dictionary, sample_list, clf)\n",
    "            disease1 = the_table[0:1]\n",
    "            disease2 = the_table[1:2]\n",
    "            disease3 = the_table[2:3]\n",
    "            window.Element('disease 1').Update(disease1, text_color='white')\n",
    "            window.Element('disease 2').Update(disease2, text_color='white')\n",
    "            window.Element('disease 3').Update(disease3, text_color='white')\n",
    "        else:\n",
    "            window.Element('disease 1').Update('There is a problem!', text_color='red')\n",
    "    elif event == 'exit':\n",
    "        break\n",
    "window.Close()\n"
   ]
  },
  {
   "cell_type": "code",
   "execution_count": 32,
   "metadata": {},
   "outputs": [],
   "source": [
    "#print (list(results_ordered_by_probability))\n"
   ]
  },
  {
   "cell_type": "code",
   "execution_count": 32,
   "metadata": {},
   "outputs": [],
   "source": [
    "#store the predicted probabilities for class 1\n",
    "y_pred_prob = clf.predict_proba(sample)[0]"
   ]
  },
  {
   "cell_type": "code",
   "execution_count": 33,
   "metadata": {},
   "outputs": [
    {
     "data": {
      "text/plain": [
       "array([0.0037594, 0.       , 0.0037594, 0.0037594, 0.0037594, 0.0037594,\n",
       "       0.0037594, 0.0037594, 0.0037594, 0.0037594, 0.0037594, 0.0037594,\n",
       "       0.0037594, 0.0037594, 0.0037594, 0.0037594, 0.0037594, 0.0037594,\n",
       "       0.0037594, 0.0037594, 0.0037594, 0.0037594, 0.0037594, 0.0037594,\n",
       "       0.0037594, 0.0037594, 0.0037594, 0.0037594, 0.0037594, 0.0037594,\n",
       "       0.0037594, 0.0037594, 0.0037594, 0.0037594, 0.0037594, 0.0037594,\n",
       "       0.0037594, 0.0037594, 0.0037594, 0.0037594, 0.0037594, 0.0037594,\n",
       "       0.0037594, 0.0037594, 0.0037594, 0.0037594, 0.0037594, 0.0037594,\n",
       "       0.0037594, 0.0037594, 0.0037594, 0.0037594, 0.0037594, 0.0037594,\n",
       "       0.0037594, 0.0037594, 0.0037594, 0.0037594, 0.0037594, 0.0037594,\n",
       "       0.0037594, 0.0037594, 0.0037594, 0.0037594, 0.0037594, 0.0037594,\n",
       "       0.0037594, 0.0037594, 0.0037594, 0.0037594, 0.0037594, 0.0037594,\n",
       "       0.0037594, 0.0037594, 0.0037594, 0.0037594, 0.0037594, 0.0037594,\n",
       "       0.0037594, 0.0037594, 0.0037594, 0.0037594, 0.0037594, 0.0037594,\n",
       "       0.0037594, 0.0037594, 0.0037594, 0.0037594, 0.0037594, 0.0037594,\n",
       "       0.0037594, 0.0037594, 0.0037594, 0.0037594, 0.0037594, 0.0037594,\n",
       "       0.0037594, 0.0037594, 0.0037594, 0.0037594, 0.0037594, 0.0037594,\n",
       "       0.       , 0.0037594, 0.0037594, 0.0037594, 0.0037594, 0.0037594,\n",
       "       0.0037594, 0.0037594, 0.0037594, 0.0037594, 0.0037594, 0.0037594,\n",
       "       0.0037594, 0.0037594, 0.0037594, 0.0037594, 0.0037594, 0.0037594,\n",
       "       0.0037594, 0.0037594, 0.0037594, 0.0037594, 0.       , 0.0037594,\n",
       "       0.0037594, 0.0037594, 0.0037594, 0.0037594, 0.0037594, 0.0037594,\n",
       "       0.0037594, 0.0037594, 0.0037594, 0.0037594, 0.0037594, 0.0037594,\n",
       "       0.0037594, 0.0037594, 0.0037594, 0.0037594, 0.       , 0.0037594,\n",
       "       0.       , 0.0037594, 0.0037594, 0.0037594, 0.0037594, 0.0037594,\n",
       "       0.0037594, 0.0037594, 0.0037594, 0.0037594, 0.0037594, 0.0037594,\n",
       "       0.0037594, 0.0037594, 0.0037594, 0.0037594, 0.0037594, 0.0037594,\n",
       "       0.0037594, 0.0037594, 0.0037594, 0.0037594, 0.0037594, 0.0037594,\n",
       "       0.0037594, 0.0037594, 0.0037594, 0.0037594, 0.0037594, 0.0037594,\n",
       "       0.0037594, 0.0037594, 0.0037594, 0.0037594, 0.0037594, 0.0037594,\n",
       "       0.0037594, 0.0037594, 0.0037594, 0.0037594, 0.0037594, 0.0037594,\n",
       "       0.0037594, 0.0037594, 0.0037594, 0.0037594, 0.0037594, 0.0037594,\n",
       "       0.0037594, 0.0037594, 0.0037594, 0.0037594, 0.0037594, 0.0037594,\n",
       "       0.0037594, 0.0037594, 0.0037594, 0.0037594, 0.0037594, 0.0037594,\n",
       "       0.0037594, 0.0037594, 0.0037594, 0.0037594, 0.0037594, 0.0037594,\n",
       "       0.0037594, 0.0037594, 0.0037594, 0.0037594, 0.0037594, 0.0037594,\n",
       "       0.0037594, 0.0037594, 0.0037594, 0.0037594, 0.0037594, 0.0037594,\n",
       "       0.0037594, 0.0037594, 0.0037594, 0.       , 0.0037594, 0.0037594,\n",
       "       0.0037594, 0.0037594, 0.0037594, 0.       , 0.0037594, 0.       ,\n",
       "       0.0037594, 0.0037594, 0.0037594, 0.0037594, 0.0037594, 0.0037594,\n",
       "       0.0037594, 0.0037594, 0.0037594, 0.0037594, 0.0037594, 0.0037594,\n",
       "       0.0037594, 0.0037594, 0.0037594, 0.0037594, 0.0037594, 0.0037594,\n",
       "       0.0037594, 0.0037594, 0.0037594, 0.0037594, 0.0037594, 0.0037594,\n",
       "       0.       , 0.0037594, 0.0037594, 0.0037594, 0.0037594, 0.0037594,\n",
       "       0.0037594, 0.0037594, 0.0037594, 0.0037594, 0.0037594, 0.0037594,\n",
       "       0.0037594, 0.0037594, 0.0037594, 0.0037594, 0.0037594])"
      ]
     },
     "execution_count": 33,
     "metadata": {},
     "output_type": "execute_result"
    }
   ],
   "source": [
    "y_pred_prob"
   ]
  },
  {
   "cell_type": "code",
   "execution_count": null,
   "metadata": {},
   "outputs": [],
   "source": []
  }
 ],
 "metadata": {
  "kernelspec": {
   "display_name": "Python 3",
   "language": "python",
   "name": "python3"
  },
  "language_info": {
   "codemirror_mode": {
    "name": "ipython",
    "version": 3
   },
   "file_extension": ".py",
   "mimetype": "text/x-python",
   "name": "python",
   "nbconvert_exporter": "python",
   "pygments_lexer": "ipython3",
   "version": "3.7.6"
  }
 },
 "nbformat": 4,
 "nbformat_minor": 2
}
