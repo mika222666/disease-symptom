{
 "cells": [
  {
   "cell_type": "code",
   "execution_count": 1,
   "metadata": {},
   "outputs": [
    {
     "name": "stderr",
     "output_type": "stream",
     "text": [
      "/opt/anaconda3/lib/python3.7/site-packages/sklearn/externals/joblib/__init__.py:15: FutureWarning: sklearn.externals.joblib is deprecated in 0.21 and will be removed in 0.23. Please import this functionality directly from joblib, which can be installed with: pip install joblib. If this warning is raised when loading pickled models, you may need to re-serialize those models with scikit-learn 0.21+.\n",
      "  warnings.warn(msg, category=FutureWarning)\n"
     ]
    }
   ],
   "source": [
    "import pandas as pd\n",
    "import numpy as np\n",
    "import re\n",
    "import os\n",
    "import glob\n",
    "\n",
    "import pandas as pd\n",
    "import matplotlib.pyplot as plt\n",
    "from sklearn.externals import joblib\n",
    "from sklearn.naive_bayes import MultinomialNB\n",
    "\n",
    "import math"
   ]
  },
  {
   "cell_type": "code",
   "execution_count": 2,
   "metadata": {},
   "outputs": [],
   "source": [
    "db_table = pd.read_csv('selfmade-db.csv', encoding='utf-8', index_col=None, header=0)"
   ]
  },
  {
   "cell_type": "code",
   "execution_count": 3,
   "metadata": {},
   "outputs": [],
   "source": [
    "def isValid(cui):\n",
    "    cui = str(cui)\n",
    "    pattern = re.compile(\"C\\\\d{7}\")\n",
    "    if not pattern.match(cui):\n",
    "        return False\n",
    "    return True\n",
    "\n",
    "def cuiToNumber(cui):\n",
    "      return cui.strip(\"C\").strip(\"0\")\n",
    "\n",
    "def convertCUI(cui):\n",
    "    cui = str(cui)\n",
    "    if not isValid(cui):\n",
    "        return \"C\" + cui.zfill(7)\n",
    "    else:\n",
    "        return cui\n",
    "\n",
    "def clean(the_string):\n",
    "    return str(the_string.encode('utf-8'))"
   ]
  },
  {
   "cell_type": "code",
   "execution_count": 4,
   "metadata": {},
   "outputs": [],
   "source": [
    "db_table['Disease'] = db_table['Disease'].apply(convertCUI)\n",
    "db_table['Symptom'] = db_table['Symptom'].apply(convertCUI)\n",
    "\n",
    "db_table.to_csv(\"selfmade-db.csv\",index=False)\n",
    "\n",
    "df_foreign = pd.read_csv('disease-symptom-other.csv', encoding='utf-8', index_col=None, header=0)\n",
    "\n",
    "db_table = db_table.append(df_foreign)\n",
    "\n",
    "db_table.to_csv(\"disease-symptom-merged-edit.csv\",index=False)"
   ]
  },
  {
   "cell_type": "code",
   "execution_count": 5,
   "metadata": {},
   "outputs": [],
   "source": [
    "db_table['Disease'] = db_table['Disease'].astype(str)\n",
    "db_table['Symptom'] = db_table['Symptom'].astype(str)\n",
    "\n",
    "db_table['Symptom'].replace('', np.nan, inplace=True)\n",
    "db_table.dropna(subset=['Symptom'], inplace=True)\n",
    "\n",
    "db_table['Disease'].replace('', np.nan, inplace=True)\n",
    "db_table.dropna(subset=['Disease'], inplace=True)\n",
    "\n",
    "df = pd.DataFrame(db_table)\n",
    "df.columns\n",
    "\n",
    "df_1 = pd.get_dummies(df.Symptom)\n",
    "df_s = df['Disease']\n",
    "df_pivoted = pd.concat([df_s,df_1], axis=1)\n",
    "df_pivoted.drop_duplicates(keep='first',inplace=True)"
   ]
  },
  {
   "cell_type": "code",
   "execution_count": 6,
   "metadata": {},
   "outputs": [],
   "source": [
    "cols = df_pivoted.columns\n",
    "cols = cols[1:] # skip 'Disease'\n",
    "\n",
    "df_pivoted = df_pivoted.groupby('Disease').sum()\n",
    "df_pivoted = df_pivoted.reset_index()\n",
    "\n",
    "df_pivoted.to_csv('all_pivoted_edit.csv', index=False)"
   ]
  },
  {
   "cell_type": "code",
   "execution_count": 7,
   "metadata": {},
   "outputs": [],
   "source": [
    "cols = df_pivoted.columns\n",
    "cols = cols[1:] # skip 'title'\n",
    "x = df_pivoted[cols] # symptom rows\n",
    "y = df_pivoted['Disease'] # diseases\n",
    "x.to_csv(\"all_x_edit.csv\", index=False)"
   ]
  },
  {
   "cell_type": "code",
   "execution_count": 8,
   "metadata": {},
   "outputs": [
    {
     "data": {
      "text/plain": [
       "0.9683698296836983"
      ]
     },
     "execution_count": 8,
     "metadata": {},
     "output_type": "execute_result"
    }
   ],
   "source": [
    "clf = MultinomialNB()\n",
    "clf = clf.fit(x, y)\n",
    "\n",
    "clf.score(x, y)"
   ]
  },
  {
   "cell_type": "code",
   "execution_count": 9,
   "metadata": {},
   "outputs": [],
   "source": [
    "disease_pred = clf.predict(x)\n",
    "\n",
    "disease_real = y.values"
   ]
  },
  {
   "cell_type": "code",
   "execution_count": 10,
   "metadata": {},
   "outputs": [
    {
     "name": "stdout",
     "output_type": "stream",
     "text": [
      "Pred: C0006840 Actual:C0006849\n",
      "Pred: C0001175 Actual:C0019682\n",
      "Pred: C0001175 Actual:C0019693\n",
      "Pred: C0036262 Actual:C0041976\n",
      "Pred: C0036690 Actual:C0243026\n",
      "Pred: C0014549 Actual:C0494475\n",
      "Pred: C0039621 Actual:C0549346\n",
      "Pred: C0006142 Actual:C0678222\n",
      "Pred: C0242379 Actual:C0684249\n",
      "Pred: C0007102 Actual:C0699790\n",
      "Pred: C0036690 Actual:C1090821\n",
      "Pred: C0031039 Actual:C1253937\n",
      "Pred: C0020428 Actual:C1384514\n"
     ]
    }
   ],
   "source": [
    "for i in range(0, len(disease_real)):\n",
    "    if disease_pred[i]!=disease_real[i]:\n",
    "        print ('Pred: {0} Actual:{1}'.format(disease_pred[i], disease_real[i]))"
   ]
  },
  {
   "cell_type": "code",
   "execution_count": 11,
   "metadata": {},
   "outputs": [],
   "source": [
    "joblib.dump(clf,'all_mnb.pkl', protocol=2)\n",
    "\n",
    "data = pd.read_csv(\"all_x_edit.csv\")"
   ]
  },
  {
   "cell_type": "code",
   "execution_count": 12,
   "metadata": {},
   "outputs": [],
   "source": [
    "df = pd.DataFrame(data)\n",
    "features = df.columns # = symptoms\n",
    "features_raw = [str(features[x]) for x in range(len(features))]\n",
    "features_raw = ','.join(map(str, features_raw))"
   ]
  },
  {
   "cell_type": "code",
   "execution_count": 13,
   "metadata": {},
   "outputs": [],
   "source": [
    "# convert feature array into dict of symptom: index\n",
    "feature_dict = {}\n",
    "for i,f in enumerate(features):\n",
    "    feature_dict[f] = i"
   ]
  },
  {
   "cell_type": "code",
   "execution_count": 14,
   "metadata": {},
   "outputs": [],
   "source": [
    "def findFeatures(disease):\n",
    "    return db_table.loc[db_table['Disease'] == disease][\"Symptom\"].values.astype(str)"
   ]
  },
  {
   "cell_type": "code",
   "execution_count": 15,
   "metadata": {},
   "outputs": [],
   "source": [
    "sample = np.zeros((len(features),), dtype=np.int)\n",
    "sample_list = sample.tolist()"
   ]
  },
  {
   "cell_type": "code",
   "execution_count": 16,
   "metadata": {},
   "outputs": [],
   "source": [
    "sym_dictionary = pd.read_csv('full_dictionary.csv', encoding='utf-8', index_col=None, header=0)"
   ]
  },
  {
   "cell_type": "code",
   "execution_count": 17,
   "metadata": {},
   "outputs": [],
   "source": [
    "def find_symtom_cui(value_list, sym_dictionary):\n",
    "    search_cui = []\n",
    "    symptom_list = sym_dictionary[\"Symptom\"].tolist() \n",
    "    symptom_cui_list = sym_dictionary[\"Symptom_CUI\"].tolist()\n",
    "    \n",
    "    for s in value_list: \n",
    "        search_cui.append(symptom_cui_list[symptom_list.index(s)])\n",
    "    return search_cui"
   ]
  },
  {
   "cell_type": "code",
   "execution_count": 18,
   "metadata": {},
   "outputs": [],
   "source": [
    "def find_symptom(input_sym_cui, sym_dictionary):\n",
    "    search_sym = []\n",
    "    symptom_list = sym_dictionary[\"Symptom\"].tolist() \n",
    "    symptom_cui_list = sym_dictionary[\"Symptom_CUI\"].tolist()\n",
    "    \n",
    "    for s in input_sym_cui: \n",
    "        search_sym.append(symptom_list[symptom_cui_list.index(s)])\n",
    "    return search_sym"
   ]
  },
  {
   "cell_type": "code",
   "execution_count": 19,
   "metadata": {},
   "outputs": [],
   "source": [
    "def find_disease(input_disease_cui, sym_dictionary):\n",
    "    search_di = []\n",
    "    disease_list = sym_dictionary[\"Disease_UMLS\"].tolist() \n",
    "    disease_cui_list = sym_dictionary[\"Disease_CUI\"].tolist()\n",
    "    \n",
    "    for s in input_disease_cui: \n",
    "        search_di.append(disease_list[disease_cui_list.index(s)])\n",
    "    return search_di"
   ]
  },
  {
   "cell_type": "code",
   "execution_count": 20,
   "metadata": {},
   "outputs": [],
   "source": [
    "def symptom_disease(value_list, sym_dictionary, sample_list):\n",
    "    search_cui = find_symtom_cui(value_list, sym_dictionary)\n",
    "    for s in search_cui:\n",
    "        sample_list[feature_dict[s]] = 1\n",
    "        \n",
    "    sample_list = np.array(sample_list).reshape(1,len(sample_list))\n",
    "\n",
    "    predict_results = clf.predict_proba(sample_list)[0]\n",
    "    \n",
    "    return predict_results"
   ]
  },
  {
   "cell_type": "code",
   "execution_count": 21,
   "metadata": {},
   "outputs": [],
   "source": [
    "def fill_disease_list(sym_dictionary, clf):\n",
    "    # gets a dictionary of {'class_name': probability}\n",
    "    #prob_per_class_dictionary = dict(zip(clf.classes_, predict_results))\n",
    "    disease_list = sym_dictionary[\"Disease_UMLS\"].tolist()\n",
    "    #prob_per_class_dictionary = dict(zip(disease_list, predict_results))\n",
    "    \n",
    "    disease_list_1 = find_disease(clf.classes_, sym_dictionary)\n",
    "    \n",
    "    return disease_list_1"
   ]
  },
  {
   "cell_type": "code",
   "execution_count": 22,
   "metadata": {},
   "outputs": [],
   "source": [
    "def fill_feature_list(clf):\n",
    "    feature_list = []\n",
    "    for s in clf.classes_:\n",
    "        feature_list.append(find_symptom(findFeatures(s), sym_dictionary))\n",
    "        \n",
    "    return feature_list"
   ]
  },
  {
   "cell_type": "code",
   "execution_count": 23,
   "metadata": {},
   "outputs": [],
   "source": [
    "def convert_string(str_):\n",
    "    st = ''\n",
    "    str_ = str(str_).lower()\n",
    "    for s in str_:\n",
    "        if 'a'<=s<='z' or s == ' ':\n",
    "            st = st+s\n",
    "    st.strip()\n",
    "    return st"
   ]
  },
  {
   "cell_type": "code",
   "execution_count": 24,
   "metadata": {},
   "outputs": [],
   "source": [
    "def sym_dict(s):\n",
    "    my_dict = {'a':0,'b':0,'c':0,'d':0,'e':0,'f':0,'g':0,'h':0,'i':0, 'j':0, 'k':0, 'l':0, 'm':0, 'n':0, 'o':0, 'p':0, 'q':0, 'r':0, 's':0, 't':0, 'u':0, 'v':0,'w':0, 'x':0,'y':0, 'z':0,' ':0}\n",
    "    s = convert_string(s)\n",
    "    for p in s:\n",
    "        my_dict[p] = my_dict[p] + 1\n",
    "    return my_dict"
   ]
  },
  {
   "cell_type": "code",
   "execution_count": 24,
   "metadata": {},
   "outputs": [],
   "source": [
    "'''def sym_dict(s):\n",
    "    my_dict = {'a':0,'b':0,'c':0,'d':0,'e':0,'f':0,'g':0,'h':0,'i':0, 'j':0, 'k':0, 'l':0, 'm':0, 'n':0, 'o':0, 'p':0, 'q':0, 'r':0, 's':0, 't':0, 'u':0, 'v':0,'w':0, 'x':0,'y':0, 'z':0,' ':0}\n",
    "    s = convert_string(s)\n",
    "    for i,p in enumerate(s):\n",
    "        my_dict[p] = my_dict[p] + 1 + i\n",
    "    return my_dict'''"
   ]
  },
  {
   "cell_type": "code",
   "execution_count": 25,
   "metadata": {},
   "outputs": [
    {
     "data": {
      "text/plain": [
       "\"def sym_dict(s):\\n    my_dict = {'a':0,'b':0,'c':0,'d':0,'e':0,'f':0,'g':0,'h':0,'i':0, 'j':0, 'k':0, 'l':0, 'm':0, 'n':0, 'o':0, 'p':0, 'q':0, 'r':0, 's':0, 't':0, 'u':0, 'v':0,'w':0, 'x':0,'y':0, 'z':0,' ':0}\\n    s = convert_string(s)\\n    for p in s:\\n        my_dict[p] = 1\\n    return my_dict\""
      ]
     },
     "execution_count": 25,
     "metadata": {},
     "output_type": "execute_result"
    }
   ],
   "source": [
    "'''def sym_dict(s):\n",
    "    my_dict = {'a':0,'b':0,'c':0,'d':0,'e':0,'f':0,'g':0,'h':0,'i':0, 'j':0, 'k':0, 'l':0, 'm':0, 'n':0, 'o':0, 'p':0, 'q':0, 'r':0, 's':0, 't':0, 'u':0, 'v':0,'w':0, 'x':0,'y':0, 'z':0,' ':0}\n",
    "    s = convert_string(s)\n",
    "    for p in s:\n",
    "        my_dict[p] = 1\n",
    "    return my_dict'''"
   ]
  },
  {
   "cell_type": "code",
   "execution_count": 25,
   "metadata": {},
   "outputs": [],
   "source": [
    "#make frequency list for each symptom\n",
    "frequency = pd.read_csv('frequency.csv', encoding='utf-8', index_col=None, header=0)\n",
    "frequency_symptom_list = frequency[\"Symptoms\"].tolist()\n",
    "\n",
    "\n",
    "frequency_list = []\n",
    "\n",
    "for s in frequency_symptom_list:\n",
    "    my_dict = sym_dict(s)\n",
    "    lst = list(my_dict.values())\n",
    "    frequency_list.append(lst)\n",
    "    \n",
    "frequency['frequency'] = frequency_list\n",
    "frequency.to_csv(\"frequency.csv\",index=False)\n"
   ]
  },
  {
   "cell_type": "code",
   "execution_count": 26,
   "metadata": {},
   "outputs": [
    {
     "data": {
      "text/plain": [
       "'from pandas.core.frame import DataFrame\\nc={\"frequency\" : frequency_list}\\ndata=DataFrame(c)\\ndata.to_csv(\"frequency_col2.csv\",index=False)'"
      ]
     },
     "execution_count": 26,
     "metadata": {},
     "output_type": "execute_result"
    }
   ],
   "source": [
    "#convert list to dataframe\n",
    "'''from pandas.core.frame import DataFrame\n",
    "c={\"frequency\" : frequency_list}\n",
    "data=DataFrame(c)\n",
    "data.to_csv(\"frequency_col2.csv\",index=False)'''"
   ]
  },
  {
   "cell_type": "code",
   "execution_count": 27,
   "metadata": {},
   "outputs": [
    {
     "data": {
      "text/plain": [
       "'#make a frequency pivot\\nsymp_dict = pd.read_csv(\\'symptom dictionary.csv\\', encoding=\\'utf-8\\', index_col=None, header=0)\\nsymptom_dict_list = symp_dict[\"Symptoms\"].tolist()\\nfor s in symptom_dict_list:\\n    s = convert_string(s)\\n    for p in s:\\n        symp_dict[s,p] += 1'"
      ]
     },
     "execution_count": 27,
     "metadata": {},
     "output_type": "execute_result"
    }
   ],
   "source": [
    "'''#make a frequency pivot\n",
    "symp_dict = pd.read_csv('symptom dictionary.csv', encoding='utf-8', index_col=None, header=0)\n",
    "symptom_dict_list = symp_dict[\"Symptoms\"].tolist()\n",
    "for s in symptom_dict_list:\n",
    "    s = convert_string(s)\n",
    "    for p in s:\n",
    "        symp_dict[s,p] += 1'''"
   ]
  },
  {
   "cell_type": "code",
   "execution_count": 26,
   "metadata": {},
   "outputs": [],
   "source": [
    "def get_value_dict(a_value):\n",
    "\n",
    "    value_dict = sym_dict(a_value)\n",
    "    value_dict_list = list(value_dict.values())\n",
    "    \n",
    "    return value_dict_list"
   ]
  },
  {
   "cell_type": "code",
   "execution_count": 27,
   "metadata": {},
   "outputs": [],
   "source": [
    "def calculate_similarity(a_value,frequency_list):\n",
    "    frequency = pd.read_csv('frequency.csv', encoding='utf-8', index_col=None, header=0)\n",
    "    # frequency_list = frequency[\"frequency\"].tolist()\n",
    "    value_dict_list = get_value_dict(a_value)\n",
    "    similarity = []\n",
    "    for s in frequency_list:\n",
    "        B = 0\n",
    "        i = 0\n",
    "        while i < 27:\n",
    "            B = value_dict_list[i] * s[i] + B\n",
    "            i = i + 1\n",
    "        # print('product = ' + str(B))\n",
    "        # Take the product of the magnitudes of two vectors\n",
    "        A = 0\n",
    "        A1 = 0\n",
    "        A2 = 0\n",
    "        j = 0\n",
    "        while j < 27:\n",
    "            A1 = A1 + value_dict_list[j] * value_dict_list[j]\n",
    "            A2 = A2 + s[j] * s[j]\n",
    "            j = j + 1\n",
    "        # print('A1 = ' + str(A1))\n",
    " \n",
    "        A = math.sqrt(A1) * math.sqrt(A2)\n",
    "        similarity.append(format(float(B) / A,\".3f\"))\n",
    "        # print('similarity = ' + format(float(B) / A,\".3f\"))\n",
    "        \n",
    "    #correlate the similarity with symptom: \n",
    "    frequency['similarity'] = similarity\n",
    "    frequency = frequency.sort_values(by=\"similarity\" , ascending=False)\n",
    "    return frequency[0:10]"
   ]
  },
  {
   "cell_type": "code",
   "execution_count": 28,
   "metadata": {},
   "outputs": [],
   "source": [
    "def symptom_match(s, sym_dictionary,frequency_list):\n",
    "    symptom_list = sym_dictionary[\"Symptom\"].tolist() \n",
    "    if s in symptom_list:\n",
    "        return s\n",
    "    else:\n",
    "        sim_3 = calculate_similarity(s,frequency_list)\n",
    "        lst_1 = sim_3['Symptoms'].tolist()\n",
    "        return lst_1[0]"
   ]
  },
  {
   "cell_type": "code",
   "execution_count": 29,
   "metadata": {},
   "outputs": [],
   "source": [
    "'''def add_value_to_list(value):\n",
    "    value_list_set = []\n",
    "    value_list_set.append(value)\n",
    "    return value_list_set'''"
   ]
  },
  {
   "cell_type": "code",
   "execution_count": 30,
   "metadata": {},
   "outputs": [
    {
     "data": {
      "text/plain": [
       "['Headache']"
      ]
     },
     "execution_count": 30,
     "metadata": {},
     "output_type": "execute_result"
    }
   ],
   "source": [
    "'''value = 'Headache'\n",
    "add_value_to_list(value)'''"
   ]
  },
  {
   "cell_type": "code",
   "execution_count": 33,
   "metadata": {},
   "outputs": [],
   "source": [
    "def symptom_check(value_list, sym_dictionary):\n",
    "    symptom_list = sym_dictionary[\"Symptom\"].tolist() \n",
    "    for s in value_list:\n",
    "        if s in symptom_list:\n",
    "            return True\n",
    "        else:\n",
    "            return False"
   ]
  },
  {
   "cell_type": "code",
   "execution_count": 34,
   "metadata": {},
   "outputs": [],
   "source": [
    "# input_list = ['insomnia','general discmofort','headache','red blothies']\n",
    "def fix_the_input(input_list):\n",
    "    for i,s in enumerate(input_list):\n",
    "        s_1 = symptom_match(s,sym_dictionary,frequency_list)\n",
    "        input_list[i] = s_1\n",
    "    return input_list"
   ]
  },
  {
   "cell_type": "code",
   "execution_count": 35,
   "metadata": {},
   "outputs": [],
   "source": [
    "def make_table(value_list, sym_dictionary, sample_list, clf):\n",
    "    \n",
    "    disease_list_1 = fill_disease_list(sym_dictionary, clf)\n",
    "    predict_results = symptom_disease(value_list, sym_dictionary, sample_list)\n",
    "    feature_list = fill_feature_list(clf)\n",
    "    \n",
    "    #output the re//sults as a table\n",
    "    table_1 = pd.DataFrame({'disease': disease_list_1,'probability': predict_results*100, 'symptoms': feature_list})\n",
    "    #table_1 = pd.DataFrame({'disease': disease_list_1,'probability': predict_results*100})\n",
    "    table_2 = table_1.sort_values(by=\"probability\" , ascending=False)\n",
    "    \n",
    "    return table_2"
   ]
  },
  {
   "cell_type": "code",
   "execution_count": 43,
   "metadata": {},
   "outputs": [
    {
     "name": "stdout",
     "output_type": "stream",
     "text": [
      "                                    disease  probability  \\\n",
      "116                             hemorrhoids     0.821514   \n",
      "32                            bronchiektase     0.436448   \n",
      "35                         bronchopneumonie     0.436448   \n",
      "41                    schilddruesenkarzinom     0.435177   \n",
      "369  schlafapnoesyndrom der oberen luftwege     0.433910   \n",
      "..                                      ...          ...   \n",
      "160                  chronic kidney failure     0.200751   \n",
      "176        systemischer lupus erythematodes     0.200751   \n",
      "143            hypoglycemia / hypoglycaemia     0.200182   \n",
      "49          gluten - sensitive enteropathie     0.198489   \n",
      "147                          hypothyroidism     0.196814   \n",
      "\n",
      "                                              symptoms  \n",
      "116  [haemorrhage, bowel sounds decreased, decrease...  \n",
      "32                          [cough, lungenabszess nnb]  \n",
      "35                                      [cough, fever]  \n",
      "41                [schluckbeschwerden, dyspnea, cough]  \n",
      "369  [mundatmung, schallleitungsschwerhoerigkeit, s...  \n",
      "..                                                 ...  \n",
      "160  [vomiting, orthopnea, hyperkalemia, oliguria, ...  \n",
      "176  [fever, unbeabsichtigter gewichtsverlust, lymp...  \n",
      "143  [unresponsiveness, hypothermia, natural, incoh...  \n",
      "49   [diarrhea, steatorrhoe, flatulence, constipati...  \n",
      "147  [shortness of breath, prostatism, drowsiness, ...  \n",
      "\n",
      "[411 rows x 3 columns]\n"
     ]
    }
   ],
   "source": [
    "'''import PySimpleGUI as sg\n",
    "\n",
    "sg.theme('Dark Blue 3')   # Add a touch of color\n",
    "\n",
    "    \n",
    "layout = [[sg.Text('Symptoms:'), sg.InputText(size=(40,))],\n",
    "     [sg.Button('Find Disease', key='submit')],\n",
    "     [sg.Text('', key='disease 1', size=(100,5))],\n",
    "     [sg.Text('', key='disease 2', size=(100,5))],\n",
    "     [sg.Text('', key='disease 3', size=(100,5))],     \n",
    "     [sg.Quit('quit', key='exit')]]\n",
    "    \n",
    "# Create the Window\n",
    "window = sg.Window('Disease System', layout, grab_anywhere=True)\n",
    "\n",
    "while True:\n",
    "    event, value = window.Read()\n",
    "    value_0 = value[0]\n",
    "    value_str = str(value_0)\n",
    "    value_list = value_str.split(\",\")\n",
    "    \n",
    "    if event == 'submit':\n",
    "        #check if there are mistake in the input\n",
    "        if symptom_check(value_list,sym_dictionary):\n",
    "            the_table = make_table(value_list, sym_dictionary, sample_list, clf)\n",
    "        else:\n",
    "            #match the input symptoms with the exiting symptoms in the dict\n",
    "            value_list_fix = fix_the_input(value_list)\n",
    "            window.Element('disease 1').Update('The symptoms does not match!', text_color='red')\n",
    "            window.Element('disease 2').Update('I consider your input as:', text_color='white')\n",
    "            window.Element('disease 3').Update(value_list_fix, text_color='white')\n",
    "            the_table = make_table(value_list_fix, sym_dictionary, sample_list, clf)\n",
    "\n",
    "        print(the_table)\n",
    "        the_table[0:101].to_csv(\"output disease.csv\",index=False)\n",
    "\n",
    "    elif event == 'exit':\n",
    "        break\n",
    "window.Close()'''"
   ]
  },
  {
   "cell_type": "code",
   "execution_count": 45,
   "metadata": {},
   "outputs": [
    {
     "name": "stdout",
     "output_type": "stream",
     "text": [
      "                        disease  probability  \\\n",
      "116                 hemorrhoids     2.960497   \n",
      "345            pontiac - fieber     1.670517   \n",
      "150                   infection     1.627563   \n",
      "246              pyelonephritis     1.599610   \n",
      "164  pneumonie durch legionella     1.599610   \n",
      "..                          ...          ...   \n",
      "200       myocardial infarction     0.090168   \n",
      "262               schizophrenia     0.090168   \n",
      "28             bipolar disorder     0.088640   \n",
      "109               failure heart     0.088640   \n",
      "147              hypothyroidism     0.081418   \n",
      "\n",
      "                                              symptoms  \n",
      "116  [haemorrhage, bowel sounds decreased, decrease...  \n",
      "345  [schnupfen, cough, throat sore, fever, verwirr...  \n",
      "150  [fever, erythema, decreased translucency, hepa...  \n",
      "246  [fever, pain, urgency of micturition, hematuri...  \n",
      "164  [pleuritis, fever, rhinitis, laryngitis, heada...  \n",
      "..                                                 ...  \n",
      "200  [pain chest, st segment elevation, sweat, swea...  \n",
      "262  [hallucinations auditory, hypersomnolence, irr...  \n",
      "28   [feeling suicidal, energy increased, suicidal,...  \n",
      "109  [orthopnea, fatigue, dyspnea on exertion, dysp...  \n",
      "147  [shortness of breath, prostatism, drowsiness, ...  \n",
      "\n",
      "[411 rows x 3 columns]\n",
      "                        disease  probability  \\\n",
      "116                 hemorrhoids     2.960497   \n",
      "345            pontiac - fieber     1.670517   \n",
      "150                   infection     1.627563   \n",
      "246              pyelonephritis     1.599610   \n",
      "164  pneumonie durch legionella     1.599610   \n",
      "..                          ...          ...   \n",
      "200       myocardial infarction     0.090168   \n",
      "262               schizophrenia     0.090168   \n",
      "28             bipolar disorder     0.088640   \n",
      "109               failure heart     0.088640   \n",
      "147              hypothyroidism     0.081418   \n",
      "\n",
      "                                              symptoms  \n",
      "116  [haemorrhage, bowel sounds decreased, decrease...  \n",
      "345  [schnupfen, cough, throat sore, fever, verwirr...  \n",
      "150  [fever, erythema, decreased translucency, hepa...  \n",
      "246  [fever, pain, urgency of micturition, hematuri...  \n",
      "164  [pleuritis, fever, rhinitis, laryngitis, heada...  \n",
      "..                                                 ...  \n",
      "200  [pain chest, st segment elevation, sweat, swea...  \n",
      "262  [hallucinations auditory, hypersomnolence, irr...  \n",
      "28   [feeling suicidal, energy increased, suicidal,...  \n",
      "109  [orthopnea, fatigue, dyspnea on exertion, dysp...  \n",
      "147  [shortness of breath, prostatism, drowsiness, ...  \n",
      "\n",
      "[411 rows x 3 columns]\n",
      "                        disease  probability  \\\n",
      "116                 hemorrhoids     2.960497   \n",
      "345            pontiac - fieber     1.670517   \n",
      "150                   infection     1.627563   \n",
      "246              pyelonephritis     1.599610   \n",
      "164  pneumonie durch legionella     1.599610   \n",
      "..                          ...          ...   \n",
      "200       myocardial infarction     0.090168   \n",
      "262               schizophrenia     0.090168   \n",
      "28             bipolar disorder     0.088640   \n",
      "109               failure heart     0.088640   \n",
      "147              hypothyroidism     0.081418   \n",
      "\n",
      "                                              symptoms  \n",
      "116  [haemorrhage, bowel sounds decreased, decrease...  \n",
      "345  [schnupfen, cough, throat sore, fever, verwirr...  \n",
      "150  [fever, erythema, decreased translucency, hepa...  \n",
      "246  [fever, pain, urgency of micturition, hematuri...  \n",
      "164  [pleuritis, fever, rhinitis, laryngitis, heada...  \n",
      "..                                                 ...  \n",
      "200  [pain chest, st segment elevation, sweat, swea...  \n",
      "262  [hallucinations auditory, hypersomnolence, irr...  \n",
      "28   [feeling suicidal, energy increased, suicidal,...  \n",
      "109  [orthopnea, fatigue, dyspnea on exertion, dysp...  \n",
      "147  [shortness of breath, prostatism, drowsiness, ...  \n",
      "\n",
      "[411 rows x 3 columns]\n"
     ]
    }
   ],
   "source": [
    "import PySimpleGUI as sg\n",
    "\n",
    "sg.theme('Dark Blue 3')   # Add a touch of color\n",
    "\n",
    "    \n",
    "layout = [[sg.Text('Symptoms:'), sg.InputText(size=(40,))],\n",
    "     [sg.Button('Find Disease', key='submit')],[sg.Button('Clear Symptoms', key='clear')],\n",
    "     [sg.Text('', key='disease 1', size=(100,5))],\n",
    "     [sg.Text('', key='disease 2', size=(100,5))],\n",
    "     [sg.Text('', key='disease 3', size=(100,5))],\n",
    "     [sg.Text('', key='disease 4', size=(100,5))], \n",
    "     [sg.Quit('quit', key='exit')]]\n",
    "    \n",
    "# Create the Window\n",
    "window = sg.Window('Disease System', layout, grab_anywhere=True)\n",
    "value_list = []\n",
    "\n",
    "while True:\n",
    "    event, value = window.Read()\n",
    "    value_0 = value[0]\n",
    "        \n",
    "    if event == 'submit':\n",
    "        #add value into a list \n",
    "        value_list.append(value_0)\n",
    "        value_list_str = str(value_list)\n",
    "        value_list = value_list_str.split(\",\")\n",
    "        \n",
    "        #check if there are mistake in the input\n",
    "        if symptom_check(value_list,sym_dictionary):\n",
    "            the_table = make_table(value_list, sym_dictionary, sample_list, clf)\n",
    "            \n",
    "            window.Element('disease 1').Update(value_list, text_color='red')\n",
    "        else:\n",
    "            #match the input symptoms with the exiting symptoms in the dict\n",
    "            value_list_fix = fix_the_input(value_list)\n",
    "            window.Element('disease 1').Update(value_list, text_color='red')\n",
    "            window.Element('disease 2').Update('The symptoms does not match!', text_color='red')\n",
    "            window.Element('disease 3').Update('I consider your input as:', text_color='white')\n",
    "            window.Element('disease 4').Update(value_list_fix, text_color='white')\n",
    "            the_table = make_table(value_list_fix, sym_dictionary, sample_list, clf)\n",
    "\n",
    "        print(the_table)\n",
    "        the_table[0:101].to_csv(\"output disease.csv\",index=False)\n",
    "            \n",
    "    if event == 'clear':\n",
    "        #clear all the input symptoms\n",
    "        value_list = []\n",
    "        window.Element('disease 1').Update('The symptoms in the list has been cleaned!', text_color='red')\n",
    "        the_table = the_table.drop(index=the_table.index)\n",
    "\n",
    "    elif event == 'exit':\n",
    "        break\n",
    "window.Close()"
   ]
  },
  {
   "cell_type": "code",
   "execution_count": null,
   "metadata": {},
   "outputs": [],
   "source": []
  },
  {
   "cell_type": "code",
   "execution_count": null,
   "metadata": {},
   "outputs": [],
   "source": [
    "disease1 = the_table[0:1]\n",
    "disease2 = the_table[1:2]\n",
    "disease3 = the_table[2:3]\n",
    "window.Element('disease 1').Update(disease1, text_color='white')\n",
    "window.Element('disease 2').Update(disease2, text_color='white')\n",
    "window.Element('disease 3').Update(disease3, text_color='white')"
   ]
  }
 ],
 "metadata": {
  "kernelspec": {
   "display_name": "Python 3",
   "language": "python",
   "name": "python3"
  },
  "language_info": {
   "codemirror_mode": {
    "name": "ipython",
    "version": 3
   },
   "file_extension": ".py",
   "mimetype": "text/x-python",
   "name": "python",
   "nbconvert_exporter": "python",
   "pygments_lexer": "ipython3",
   "version": "3.7.6"
  }
 },
 "nbformat": 4,
 "nbformat_minor": 4
}
